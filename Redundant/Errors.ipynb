{
 "cells": [
  {
   "cell_type": "markdown",
   "id": "f3d2220b",
   "metadata": {},
   "source": [
    "# Notebook for manually calculating errors as a check"
   ]
  },
  {
   "cell_type": "code",
   "execution_count": null,
   "id": "33d66316",
   "metadata": {},
   "outputs": [],
   "source": [
    "import numpy as np"
   ]
  },
  {
   "cell_type": "code",
   "execution_count": 11,
   "id": "2c7fb2e8",
   "metadata": {},
   "outputs": [
    {
     "name": "stdout",
     "output_type": "stream",
     "text": [
      "5.500000000000001e-13 + 2.82842712474619e-14 - 2.5e-14\n",
      "5.78284271247462e-13\n",
      "5.900000000000001e-13\n"
     ]
    }
   ],
   "source": [
    "# GX_339-4, https://iopscience.iop.org/article/10.1088/0004-637X/773/1/59\n",
    "# (Not from https://academic.oup.com/mnrasl/article/493/1/L132/5728505 because different energy band)\n",
    "\n",
    "F1 = 6.3e-13\n",
    "err1up = 0.4e-13\n",
    "err1low = 0.3e-13\n",
    "\n",
    "F2 = 4.7e-13\n",
    "err2up = 0.4e-13\n",
    "err2low = 0.4e-13\n",
    "\n",
    "# Calculate average\n",
    "F = (F1 + F2)/2\n",
    "Ferr_up = np.sqrt((err1up**2 + err2up**2))/2\n",
    "Ferr_low = np.sqrt((err1low**2 + err2low**2))/2\n",
    "print(F, '+', Ferr_up, '-', Ferr_low)\n",
    "print(F + Ferr_up)\n",
    "\n",
    "# Test extreme error\n",
    "F_max_1 = F1 + err1up\n",
    "F_max_2 = F2 + err2up\n",
    "F_max = (F_max_1 + F_max_2)/2\n",
    "print(F_max)"
   ]
  },
  {
   "cell_type": "code",
   "execution_count": 1,
   "id": "53634ce9",
   "metadata": {},
   "outputs": [
    {
     "name": "stdout",
     "output_type": "stream",
     "text": [
      "6e-11\n"
     ]
    }
   ],
   "source": [
    "# XTE_J1901+014 crab to erg/cm2/s\n",
    "\n",
    "mcrab = 2.5\n",
    "crab = mcrab/1000\n",
    "flux = 2.4e-8*crab\n",
    "print(flux)\n",
    "\n"
   ]
  },
  {
   "cell_type": "code",
   "execution_count": null,
   "id": "6631ff32",
   "metadata": {},
   "outputs": [],
   "source": [
    "abs_flux = 5.01E+21\n",
    "nH = 5.01E+21\n",
    "band=\n",
    "\n",
    "# Calculate the optical extinction from the hydrogen column density\n",
    "Av = nH / (1.79*10**(21))\n",
    "Av_err = Av * np.sqrt((nH_err/nH)**2 + (0.03/1.79)**2)\n",
    "\n",
    "# Translate visual extinction to infrared extinction in the used filter\n",
    "if band == 'J':\n",
    "    A = 0.282 * Av\n",
    "    A_err = 0.282 * Av_err\n",
    "elif band == 'H':\n",
    "    A = 0.175 * Av\n",
    "    A_err = 0.175 * Av_err\n",
    "elif band == 'Ks':\n",
    "    A = 0.112 * Av\n",
    "    A_err = 0.112 * Av_err"
   ]
  }
 ],
 "metadata": {
  "kernelspec": {
   "display_name": "Python 3 (ipykernel)",
   "language": "python",
   "name": "python3"
  },
  "language_info": {
   "codemirror_mode": {
    "name": "ipython",
    "version": 3
   },
   "file_extension": ".py",
   "mimetype": "text/x-python",
   "name": "python",
   "nbconvert_exporter": "python",
   "pygments_lexer": "ipython3",
   "version": "3.8.5"
  }
 },
 "nbformat": 4,
 "nbformat_minor": 5
}
