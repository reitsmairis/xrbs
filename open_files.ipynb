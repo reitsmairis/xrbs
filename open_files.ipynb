{
 "cells": [
  {
   "cell_type": "code",
   "execution_count": 1,
   "id": "05cf0714",
   "metadata": {},
   "outputs": [],
   "source": [
    "\"\"\"\n",
    "Importing all libraries needed.\n",
    "\"\"\"\n",
    "\n",
    "from astropy.io import fits\n",
    "import numpy as np\n",
    "from scipy.odr import *\n",
    "from astropy.coordinates import SkyCoord\n",
    "from astroquery.vo_conesearch import ConeSearch\n",
    "from scipy.ndimage import interpolation\n",
    "from astropy import units as u\n",
    "from astropy import constants as c\n",
    "import astropy.coordinates as coord\n",
    "from astropy import wcs\n",
    "import aplpy\n",
    "import matplotlib.pyplot as plt\n",
    "from astropy.coordinates import ICRS,FK4\n",
    "import math\n",
    "import re\n",
    "\n",
    "import pandas as pd"
   ]
  },
  {
   "cell_type": "code",
   "execution_count": 2,
   "id": "48f99128",
   "metadata": {},
   "outputs": [
    {
     "name": "stdout",
     "output_type": "stream",
     "text": [
      "48784\n"
     ]
    }
   ],
   "source": [
    "coords = \"18 25 22.020 -00 00 43.00\" \n",
    "source = \"4U_1822-00\"\n",
    "# obs = \"1026\"\n",
    "file_name = \"2018-06-19_H_4U_1822-00_1175_c1-4_58288_30295.mos.fits.cat\"\n",
    "FSRED_dir = \"E:/Scriptie/\"\n",
    "\n",
    "flname = FSRED_dir + \"FSRED/u018918_data/\" + source + \"/\" + file_name # SExtractor catalog from the Taurus computer\n",
    "\n",
    "data = fits.getdata('test_manual.mos.fits.cat')\n",
    "print(len(data))\n",
    "XRB_coo = SkyCoord(coords, unit=(u.hourangle,u.deg))\n",
    "\n"
   ]
  },
  {
   "cell_type": "code",
   "execution_count": 3,
   "id": "e19e26c8",
   "metadata": {},
   "outputs": [],
   "source": [
    "\n",
    "# Open the fits file \n",
    "hdulist = fits.open(flname.split(\".fits\")[0] + \"_astrocal.fits\") \n",
    "\n",
    "# Retrieve wcs solution\n",
    "w = wcs.WCS(hdulist[0].header)\n",
    "hdulist.close()\n",
    "\n",
    "xyz = np.array([data['X_IMAGE'], data['Y_IMAGE']])\n",
    "coo_image = SkyCoord(w.wcs_pix2world(xyz.T,1).T[0]*u.deg, w.wcs_pix2world(xyz.T,1).T[1]*u.deg, frame=ICRS)"
   ]
  },
  {
   "cell_type": "code",
   "execution_count": 4,
   "id": "d20a4bf8",
   "metadata": {},
   "outputs": [],
   "source": [
    "# coords = \"17 38 58.300 -44 27 00.00 \"\n",
    "# source = \"4U_1735-44\"\n",
    "# obs = \"1148\" # H\n",
    "# file_name = \"2018-06-19_H_4U_1735-44_1148_c1-4_58288_17457.mos.fits.cat\"\n",
    "\n",
    "# FSRED_dir = \"E:/Scriptie/\"\n",
    "\n",
    "# flname = FSRED_dir + \"FSRED/u018918_data/\" + source + \"/\" + file_name # SExtractor catalog from the Taurus computer\n",
    "\n",
    "\n",
    "# XRB_coo = SkyCoord(coords, unit=(u.hourangle,u.deg))"
   ]
  },
  {
   "cell_type": "code",
   "execution_count": 5,
   "id": "01514fd6",
   "metadata": {},
   "outputs": [],
   "source": [
    "# coords = \"17 38 58.300 -44 27 00.00 \"\n",
    "# source = \"4U_1735-44\"\n",
    "# obs = \"1153\" # J \n",
    "# file_name = \"2018-06-19_J_4U_1735-44_1153_c1-4_58288_18215.mos.fits.cat\"\n",
    "\n",
    "# FSRED_dir = \"E:/Scriptie/\"\n",
    "\n",
    "# flname = FSRED_dir + \"FSRED/u018918_data/\" + source + \"/\" + file_name # SExtractor catalog from the Taurus computer\n",
    "\n",
    "\n",
    "# XRB_coo = SkyCoord(coords, unit=(u.hourangle,u.deg))"
   ]
  },
  {
   "cell_type": "code",
   "execution_count": 6,
   "id": "4ffecc6e",
   "metadata": {},
   "outputs": [
    {
     "data": {
      "text/plain": [
       "SIMPLE  =                    T / Fits standard                                  \n",
       "BITPIX  =                  -32 / Bits per pixel                                 \n",
       "NAXIS   =                    2 / Number of axes                                 \n",
       "NAXIS1  =                 4687 / Axis length                                    \n",
       "NAXIS2  =                 4702 / Axis length                                    \n",
       "EXTEND  =                    T / File may contain extensions                    \n",
       "ORIGIN  = 'NOAO-IRAF FITS Image Kernel July 2003' / FITS file originator        \n",
       "DATE    = '2020-12-12T17:09:33' / Date FITS file was generated                  \n",
       "IRAF-TLM= '2020-12-12T17:09:36' / Time of last modification                     \n",
       "OBJECT  = '4U 1822-00'         / Name of the object observed                    \n",
       "EQUINOX =        2000.00000000 / Mean equinox                                   \n",
       "MJD-OBS =   5.828800000000E+04 / Modified Julian date at start                  \n",
       "RADESYS = 'ICRS    '           / Astrometric system                             \n",
       "CTYPE1  = 'RA---TAN'           / WCS projection type for this axis              \n",
       "CUNIT1  = 'deg     '           / Axis unit                                      \n",
       "CRVAL1  =   2.762943949815E+02 / World coordinate on this axis                  \n",
       "CRPIX1  =                2345. / Reference pixel on this axis                   \n",
       "CD1_1   =  -4.444444444444E-05 / Linear projection matrix                       \n",
       "CTYPE2  = 'DEC--TAN'           / WCS projection type for this axis              \n",
       "CUNIT2  = 'deg     '           / Axis unit                                      \n",
       "CRVAL2  =  -5.852396254410E-02 / World coordinate on this axis                  \n",
       "CRPIX2  =               2352.5 / Reference pixel on this axis                   \n",
       "CD2_2   =   4.444444444444E-05 / Linear projection matrix                       \n",
       "COMMENT                                                                         \n",
       "COMMENT                                                                         \n",
       "AUTHOR  = 'jari    '           / Who ran the software                           \n",
       "FILTER  = 'H       '           / filter-combo                                   \n",
       "CHIP    =                    1 / chip#                                          \n",
       "AIRMASS =   1.313000000000E+00 / airmass (start)                                \n",
       "DATE-OBS= '2018-06-19'         / UT date (start)                                \n",
       "UT-TIME = '07:16:15'           / UT time (start): 26175                         \n",
       "MJD     =   5.828830295000E+04 / modified julian date                           \n",
       "MJDAVE  =          58288.30523 / Weighted MJD                                   \n",
       "EGAIN   =   2.650000000000E+00 / [electrons/DU]                                 \n",
       "PHOTIRMS=   2.544857000000E-02 / mag dispersion RMS (internal, high S/N)        \n",
       "EXPTIME =   1.000000000000E+00 / Exptime [units of image are per second]        \n",
       "OBSERVER= 'A.Dressler'                                                          \n",
       "TELESCOP= 'Baade   '                                                            \n",
       "SITENAME= 'LCO     '                                                            \n",
       "SITEALT =                 2400                                                  \n",
       "SITELAT =  -2.901423000000E+01                                                  \n",
       "SITELONG=  -7.069242000000E+01                                                  \n",
       "INSTRUME= 'FourStar'           / instrument name                                \n",
       "TEMPENV =   1.570000000000E+01 / vessel temperature [C]                         \n",
       "MEAN    =   1.653444000000E+03                                                  \n",
       "MIDPT   =   1.653138000000E+03                                                  \n",
       "MODE    =   1.651571000000E+03                                                  \n",
       "STDDEV  =   1.097373000000E+01                                                  \n",
       "STDDEV2 =   5.085234000000E+00                                                  \n",
       "FWHM_AVE=             0.545915                                                  \n",
       "EFFGAIN =   1.000000000000E+00 / [e-/s]                                         \n",
       "EFFRN   =                 0.40 / Final Read-Noise [e-/pix]                      \n",
       "EXPORG  =   8.733000000000E+00 / Original exposure time                         \n",
       "EXPOSURE=                 437. / Maximum Exposure time [s]                      \n",
       "NCOADD  =   1.000000000000E+01 / Number of Averaged Frames                      \n",
       "COMMENT                                                                         \n",
       "COMMENT  Axis-dependent SWarp parameters                                        \n",
       "RESAMPT1= 'LANCZOS2'           / RESAMPLING_TYPE config parameter               \n",
       "CENTERT1= 'ALL     '           / CENTER_TYPE config parameter                   \n",
       "PSCALET1= 'MANUAL  '           / PIXELSCALE_TYPE config parameter               \n",
       "RESAMPT2= 'LANCZOS2'           / RESAMPLING_TYPE config parameter               \n",
       "CENTERT2= 'ALL     '           / CENTER_TYPE config parameter                   \n",
       "PSCALET2= 'MANUAL  '           / PIXELSCALE_TYPE config parameter               \n",
       "COMMENT                                                                         \n",
       "COMMENT  Image-dependent SWarp parameters                                       \n",
       "FLXSCALE=   9.995447525503E-01 / Relative flux scaling from photometry          \n",
       "FLASCALE=   1.005698898458E+00 / Relative flux scaling from astrometry          \n",
       "SATURATE=              10592.3 / [e-/s] resampled pixels                        \n",
       "BACKSIG =              2.74619 / Num = 011511742                                \n",
       "NCOMBINE=                 5.00 / Maximum number of overlapping Frames.          \n",
       "BPM     = '2018-06-19_H_4U_1822-00_c1-4_58288_30295.bpm.pl.fits[type=mask].pl'  \n",
       "SCALE   =                 0.16 / Arc-seconds per pixel                          \n",
       "BACKGND =              20.2302 / Average Background Rate [e-/s] native pixels   \n",
       "OBJMASK = '2018-06-19_H_4U_1822-00_c1-4_58288_30295.mos.pl.fits[type=mask]'     \n",
       "GAIN    =       1.000000000000 / Final Gain                                     \n",
       "BACKSIGC=             14.50300 / Num = 000000069                                \n",
       "MAGZP   =               26.714 / 2MASS Zero-point                               \n",
       "MAGZPE  =                0.007 / 2MASS zp stddev                                \n",
       "MAGZPN  =                   60 / 2MASS number of stars used                     \n",
       "BACKMAG =               19.469 / SKY LEVEL [mag per sq-arcsecond]               \n",
       "DEPTH05 =               19.851 / 5-sigma depth [0.5-arcsec aperture]            \n",
       "DEPTH10 =               18.346 / 5-sigma depth [1.0-arcsec aperture]            \n",
       "DEPTH15 =               17.465 / 5-sigma depth [1.5-arcsec aperture]            \n",
       "DEPTH20 =               16.841 / 5-sigma depth [2.0-arcsec aperture]            \n",
       "                                                                                \n",
       "                                                                                \n",
       "                                                                                \n",
       "                                                                                \n",
       "                                                                                \n",
       "                                                                                \n",
       "                                                                                \n",
       "                                                                                \n",
       "                                                                                \n",
       "                                                                                \n",
       "                                                                                \n",
       "                                                                                \n",
       "                                                                                \n",
       "                                                                                \n",
       "                                                                                \n",
       "                                                                                \n",
       "                                                                                \n",
       "                                                                                \n",
       "                                                                                \n",
       "                                                                                "
      ]
     },
     "metadata": {},
     "output_type": "display_data"
    }
   ],
   "source": [
    "hdul = fits.open(flname.split(\".fits\")[0] + \"_astrocal.fits\")\n",
    "hdr = hdul[0].header\n",
    "display(hdr)"
   ]
  },
  {
   "cell_type": "code",
   "execution_count": 7,
   "id": "cf7fa717",
   "metadata": {},
   "outputs": [
    {
     "name": "stdout",
     "output_type": "stream",
     "text": [
      "hms_tuple(h=15.0, m=38.0, s=38.24554809601082)\n",
      "dms_tuple(d=-55.0, m=-53.0, s=-29.40162882001232)\n"
     ]
    }
   ],
   "source": [
    "c = SkyCoord(ra=2.346593564504E+02*u.degree, dec=-5.589150045245E+01*u.degree)\n",
    "print(c.ra.hms)\n",
    "print(c.dec.dms)"
   ]
  },
  {
   "cell_type": "markdown",
   "id": "e35882df",
   "metadata": {},
   "source": [
    "# Try to open mos.fits file\n",
    "I can indeed see there are 4 chips, with the source in the middle of one of them"
   ]
  },
  {
   "cell_type": "code",
   "execution_count": 8,
   "id": "0125e178",
   "metadata": {},
   "outputs": [
    {
     "name": "stdout",
     "output_type": "stream",
     "text": [
      "INFO: Auto-setting vmin to -9.573e+00 [aplpy.core]\n",
      "INFO: Auto-setting vmax to  9.219e+02 [aplpy.core]\n",
      "Number of SExtractor sources: 48784\n"
     ]
    },
    {
     "data": {
      "image/png": "[encoded data removed]",
      "text/plain": [
       "<Figure size 1000x900 with 1 Axes>"
      ]
     },
     "metadata": {},
     "output_type": "display_data"
    }
   ],
   "source": [
    "\n",
    "gc = aplpy.FITSFigure(flname.split(\".fits\")[0] + \"_astrocal.fits\") # this is the mos.fits file\n",
    "gc.show_colorscale(cmap='gist_heat_r',stretch='arcsinh')\n",
    "gc.show_markers(XRB_coo.ra.deg, XRB_coo.dec.deg, \n",
    "                edgecolor='blue', facecolor='none',\n",
    "                marker='o', s=80, alpha=1)\n",
    "\n",
    "\n",
    "\n",
    "\n",
    "gc.show_markers(coo_image[-1].ra.deg, coo_image[-1].dec.deg, edgecolor='b', facecolor='none', marker='o', s=60, alpha=0.6)\n",
    "gc.show_markers(coo_image[:-1].ra.deg, coo_image[:-1].dec.deg, edgecolor='r', facecolor='none', marker='o', s=50, alpha=0.6)\n",
    "\n",
    "print(\"Number of SExtractor sources:\", len(coo_image))\n",
    "\n",
    "gc.recenter(XRB_coo.ra.deg, XRB_coo.dec.deg, \n",
    "            radius=5/3600.)# degrees\n",
    "gc.set_theme('publication')\n",
    "\n"
   ]
  },
  {
   "cell_type": "code",
   "execution_count": null,
   "id": "4e7a05ba",
   "metadata": {},
   "outputs": [],
   "source": []
  },
  {
   "cell_type": "code",
   "execution_count": 9,
   "id": "40ff352a",
   "metadata": {},
   "outputs": [],
   "source": [
    "# hdu=headerList[1]\n",
    "# print('shape :',hdu.shape) #shape is 1024*1024"
   ]
  },
  {
   "cell_type": "markdown",
   "id": "b8c51b4c",
   "metadata": {},
   "source": [
    "# Try to open mos.fits.cat file\n",
    "Its hard to try something with pandas because of multidimensional columns"
   ]
  },
  {
   "cell_type": "code",
   "execution_count": 10,
   "id": "ce9a128c",
   "metadata": {},
   "outputs": [
    {
     "name": "stdout",
     "output_type": "stream",
     "text": [
      "ColDefs(\n",
      "    name = 'X_IMAGE'; format = '1E'; unit = 'pixel'; disp = 'F11.4'\n",
      "    name = 'Y_IMAGE'; format = '1E'; unit = 'pixel'; disp = 'F11.4'\n",
      "    name = 'FLUX_RADIUS'; format = '1E'; unit = 'pixel'; disp = 'F10.3'\n",
      "    name = 'FLUX_AUTO'; format = '1E'; unit = 'count'; disp = 'G12.7'\n",
      "    name = 'FLUXERR_AUTO'; format = '1E'; unit = 'count'; disp = 'G12.7'\n",
      "    name = 'FLUX_MAX'; format = '1E'; unit = 'count'; disp = 'G12.7'\n",
      "    name = 'ELONGATION'; format = '1E'; disp = 'F8.3'\n",
      "    name = 'MAG_AUTO'; format = '1E'; unit = 'mag'; disp = 'F8.4'\n",
      "    name = 'MAGERR_AUTO'; format = '1E'; unit = 'mag'; disp = 'F8.4'\n",
      "    name = 'FWHM_IMAGE'; format = '1E'; unit = 'pixel'; disp = 'F8.2'\n",
      "    name = 'CLASS_STAR'; format = '1E'; disp = 'F6.3'\n",
      "    name = 'FLAGS'; format = '1I'; disp = 'I3'\n",
      "    name = 'VIGNET'; format = '625E'; unit = 'count'; disp = 'G12.7'; dim = '(25, 25)'\n",
      "    name = 'SNR_WIN'; format = '1E'; disp = 'G10.4'\n",
      ")\n",
      "<class 'astropy.io.fits.fitsrec.FITS_rec'>\n"
     ]
    }
   ],
   "source": [
    "data = fits.getdata(flname,ext=2)\n",
    "print(data.columns)\n",
    "print(type(data))\n"
   ]
  },
  {
   "cell_type": "code",
   "execution_count": 11,
   "id": "e3814ad7",
   "metadata": {},
   "outputs": [
    {
     "name": "stdout",
     "output_type": "stream",
     "text": [
      "Filename: E:/Scriptie/FSRED/u018918_data/4U_1822-00/2018-06-19_H_4U_1822-00_1175_c1-4_58288_30295.mos.fits.cat\n",
      "No.    Name      Ver    Type      Cards   Dimensions   Format\n",
      "  0  PRIMARY       1 PrimaryHDU       4   ()      \n",
      "  1  LDAC_IMHEAD    1 BinTableHDU     12   1R x 1C   [12320A]   \n",
      "  2  LDAC_OBJECTS    1 BinTableHDU     62   48783R x 14C   [1E, 1E, 1E, 1E, 1E, 1E, 1E, 1E, 1E, 1E, 1E, 1I, 625E, 1E]   \n"
     ]
    }
   ],
   "source": [
    "hdulist = fits.open(flname)\n",
    "hdulist.info()\n"
   ]
  }
 ],
 "metadata": {
  "kernelspec": {
   "display_name": "Python 3 (ipykernel)",
   "language": "python",
   "name": "python3"
  },
  "language_info": {
   "codemirror_mode": {
    "name": "ipython",
    "version": 3
   },
   "file_extension": ".py",
   "mimetype": "text/x-python",
   "name": "python",
   "nbconvert_exporter": "python",
   "pygments_lexer": "ipython3",
   "version": "3.8.5"
  }
 },
 "nbformat": 4,
 "nbformat_minor": 5
}
